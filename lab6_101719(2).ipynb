{
 "cells": [
  {
   "cell_type": "markdown",
   "metadata": {},
   "source": [
    "# 1. Aligning reads to human genome\n"
   ]
  },
  {
   "cell_type": "markdown",
   "metadata": {},
   "source": [
    "\n",
    "a) What we will use for the database: the human genome in the data directory. \n",
    "\n",
    "b) What we will use for the input reads: The paired-ends reads from the sequencing run. \n",
    "\n",
    "c) If we used the \"unaligned\" option, unaligned.fastq will contain the reads from the uncontaimated portion of the sample, which solely belongs to Shewanella oneidensis and thus could not be aligned to the human genome. \n",
    "\n",
    "\n",
    "\n"
   ]
  },
  {
   "cell_type": "markdown",
   "metadata": {},
   "source": [
    "Command:\n",
    "bowtie2 -p 4 --very-fast --no-unal -x /data/references/hg19/hg19 -1 /data/Lab6_data/mixed_reads1.fastq -2 /data/Lab6_data/mixed_reads2.fastq -S human_readaligned.sam --un-conc unaligned.fastq\n",
    "\n",
    "\n",
    "Results:\n",
    "\n",
    "1285441 reads; of these:\n",
    "  1285441 (100.00%) were paired; of these:\n",
    "    1285105 (99.97%) aligned concordantly 0 times\n",
    "    114 (0.01%) aligned concordantly exactly 1 time\n",
    "    222 (0.02%) aligned concordantly >1 times\n",
    "    ----\n",
    "    1285105 pairs aligned concordantly 0 times; of these:\n",
    "      227762 (17.72%) aligned discordantly 1 time\n",
    "    ----\n",
    "    1057343 pairs aligned 0 times concordantly or discordantly; of these:\n",
    "      2114686 mates make up the pairs; of these:\n",
    "        2062758 (97.54%) aligned 0 times\n",
    "        15162 (0.72%) aligned exactly 1 time\n",
    "        36766 (1.74%) aligned >1 times\n",
    "19.76% overall alignment rate\n"
   ]
  },
  {
   "cell_type": "markdown",
   "metadata": {},
   "source": [
    "Thus, 19.76% of our sequencing library came from contaminating human DNA. "
   ]
  },
  {
   "cell_type": "markdown",
   "metadata": {},
   "source": [
    "# 2. Align\tthe\treads\tto\tthe\tS.\toneidensis\treference\tgenome\t"
   ]
  },
  {
   "cell_type": "markdown",
   "metadata": {},
   "source": [
    "Command:  bowtie2 -p 4 --very-fast --no-unal -x /data/references/shewanella_oneidensis_mr-1/shewanella_oneidensis_mr-1 -1 /home/5388958/unaligned.1.fastq -2 /home/5388958/unaligned.2.fastq -S shewanella_aligned.sam --un-conc unaligned_shewanella.fastq\n"
   ]
  },
  {
   "cell_type": "markdown",
   "metadata": {},
   "source": [
    "Results:"
   ]
  },
  {
   "cell_type": "markdown",
   "metadata": {},
   "source": [
    "1285105 reads; of these:\n",
    "  1285105 (100.00%) were paired; of these:\n",
    "    1049640 (81.68%) aligned concordantly 0 times\n",
    "    220987 (17.20%) aligned concordantly exactly 1 time\n",
    "    14478 (1.13%) aligned concordantly >1 times\n",
    "    ----\n",
    "    1049640 pairs aligned concordantly 0 times; of these:\n",
    "      288853 (27.52%) aligned discordantly 1 time\n",
    "    ----\n",
    "    760787 pairs aligned 0 times concordantly or discordantly; of these:\n",
    "      1521574 mates make up the pairs; of these:\n",
    "        1245335 (81.85%) aligned 0 times\n",
    "        221076 (14.53%) aligned exactly 1 time\n",
    "        55163 (3.63%) aligned >1 times\n",
    "51.55% overall alignment rate\n"
   ]
  },
  {
   "cell_type": "markdown",
   "metadata": {},
   "source": [
    "a) If you use the un unaligned.fastq option, what will unaligned.fastq contain?\n",
    "\n",
    "It will now contain all the reads from the initial sample that paired with neither the human genome nor the Shewanella genome."
   ]
  },
  {
   "cell_type": "markdown",
   "metadata": {},
   "source": [
    "b) Since we had a 51.55% alignment rate, the percentage that didn't align to the genome was 100% - 51.55% = 48.45%."
   ]
  },
  {
   "cell_type": "markdown",
   "metadata": {},
   "source": [
    "Running the command again with --very-sensitive:\n",
    "    \n",
    "bowtie2 -p 4 --very-sensitive --no-unal -x /d\n",
    "ata/references/shewanella_oneidensis_mr-1/shewanella_oneidensis_mr-1 -1 /home/53\n",
    "88958/unaligned.1.fastq -2 /home/5388958/unaligned.2.fastq -S shewanella_aligned\n",
    ".sam --un-conc unaligned_shewanella.fastq\n"
   ]
  },
  {
   "cell_type": "markdown",
   "metadata": {},
   "source": [
    "We obtain the following results:\n",
    "\n",
    "    "
   ]
  },
  {
   "cell_type": "markdown",
   "metadata": {},
   "source": [
    "1285105 reads; of these:\n",
    "  1285105 (100.00%) were paired; of these:\n",
    "    1048972 (81.63%) aligned concordantly 0 times\n",
    "    221437 (17.23%) aligned concordantly exactly 1 time\n",
    "    14696 (1.14%) aligned concordantly >1 times\n",
    "    ----\n",
    "    1048972 pairs aligned concordantly 0 times; of these:\n",
    "      291246 (27.76%) aligned discordantly 1 time\n",
    "    ----\n",
    "    757726 pairs aligned 0 times concordantly or discordantly; of these:\n",
    "      1515452 mates make up the pairs; of these:\n",
    "        1238527 (81.73%) aligned 0 times\n",
    "        220113 (14.52%) aligned exactly 1 time\n",
    "        56812 (3.75%) aligned >1 times\n",
    "51.81% overall alignment rate\n"
   ]
  },
  {
   "cell_type": "markdown",
   "metadata": {},
   "source": [
    "If we run very-sensitive the alignment rate increases slightly, so the percentage of reads that don't align decreases. "
   ]
  },
  {
   "cell_type": "markdown",
   "metadata": {},
   "source": [
    "# 3. Generating a coverage plot:"
   ]
  },
  {
   "cell_type": "markdown",
   "metadata": {},
   "source": [
    "1) Convert SAM file to BAM file, with the following command:\n",
    "    \n",
    "     samtools view -b shewanella_aligned.sam > shewanella_aligned.bam\n"
   ]
  },
  {
   "cell_type": "markdown",
   "metadata": {},
   "source": [
    "2) Sorting:\n",
    "    samtools sort shewanella_aligned.bam > shewanella_aligned.sorted.bam"
   ]
  },
  {
   "cell_type": "markdown",
   "metadata": {},
   "source": [
    "3) Indexing: samtools index shewanella_aligned.sorted.bam"
   ]
  },
  {
   "cell_type": "markdown",
   "metadata": {},
   "source": [
    "4) Generate\ta\tfile\tcontaining\tthe\tdepth\tof\tcoverage\tfor\tevery position\tin\tthe\treference\tgenome:\n",
    "\n",
    "samtools depth -a shewanella_aligned.sorted.bam > coverage_depth.tab\n",
    "\n"
   ]
  },
  {
   "cell_type": "markdown",
   "metadata": {},
   "source": [
    "5) Generate the plot:"
   ]
  },
  {
   "cell_type": "code",
   "execution_count": 32,
   "metadata": {},
   "outputs": [],
   "source": [
    "import numpy as np\n",
    "import pandas as pd\n",
    "import matplotlib.pyplot as plt"
   ]
  },
  {
   "cell_type": "code",
   "execution_count": null,
   "metadata": {},
   "outputs": [],
   "source": [
    "data = pd.read_csv('BioE131/coverage_depth.tab', sep='\\t', engine='python', header=None)\n",
    "data = data.rename(columns={0:'ref', 1:'base_position', 2:'depth'})\n",
    "plt.scatter(x=data['base_position'], y=data['depth'])\n",
    "plt.xlabel('Position in Genome')\n",
    "plt.ylabel('Depth of Coverage')\n",
    "plt.show()\n"
   ]
  },
  {
   "cell_type": "markdown",
   "metadata": {},
   "source": [
    "Now, generate the histogram:"
   ]
  },
  {
   "cell_type": "code",
   "execution_count": null,
   "metadata": {},
   "outputs": [],
   "source": [
    "plt.hist(x=data['depth'], bins=np.linspace(data['depth'].min(), data['depth'].max(), 41))\n",
    "plt.xlabel('Depth of Coverage')\n",
    "plt.ylabel('Count')\n",
    "plt.show"
   ]
  },
  {
   "cell_type": "markdown",
   "metadata": {},
   "source": [
    "Now, find the min, max, and mean coverage across all positions:"
   ]
  },
  {
   "cell_type": "code",
   "execution_count": 35,
   "metadata": {},
   "outputs": [
    {
     "name": "stdout",
     "output_type": "stream",
     "text": [
      "1\n",
      "479\n",
      "70.40399292671975\n"
     ]
    }
   ],
   "source": [
    "\n",
    "print(data['depth'].min())\n",
    "print(data['depth'].max())\n",
    "print(data['depth'].mean())\n",
    "\n"
   ]
  },
  {
   "cell_type": "markdown",
   "metadata": {},
   "source": [
    "# Extra Credit 1"
   ]
  },
  {
   "cell_type": "markdown",
   "metadata": {},
   "source": [
    "1) According to the average depth=(total depth/length of chromosome) plot, Jamie's biological sex is male (XY)."
   ]
  },
  {
   "cell_type": "code",
   "execution_count": null,
   "metadata": {},
   "outputs": [],
   "source": []
  }
 ],
 "metadata": {
  "kernelspec": {
   "display_name": "Python 3",
   "language": "python",
   "name": "python3"
  },
  "language_info": {
   "codemirror_mode": {
    "name": "ipython",
    "version": 3
   },
   "file_extension": ".py",
   "mimetype": "text/x-python",
   "name": "python",
   "nbconvert_exporter": "python",
   "pygments_lexer": "ipython3",
   "version": "3.7.3"
  }
 },
 "nbformat": 4,
 "nbformat_minor": 2
}
