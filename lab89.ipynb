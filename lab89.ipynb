{
 "cells": [
  {
   "cell_type": "markdown",
   "metadata": {},
   "source": [
    "# Lab 8:\n",
    "    "
   ]
  },
  {
   "cell_type": "markdown",
   "metadata": {},
   "source": [
    "1) Why do we expect short reads to produce a more fragmented assembly than long reads? \n",
    "\n",
    "We expect short reads to have a more fragmented assembly than long reads because they map to smaller portions of the genome, thus providing more matches but also more fragments to piece together for assembly. \n",
    "\n",
    "2) Why does a single-molecule sequencing like PacBio have a higher error rate than Illumina?\n",
    "\n",
    "Molecules often enter the frame but are missed, leading to the assumption of a deletion where it does not exist. Since Illumina does not have this problem, it has a lower error rate. "
   ]
  },
  {
   "cell_type": "markdown",
   "metadata": {},
   "source": [
    "We run the SPAdes genome assembler with the following command:\n",
    "    "
   ]
  },
  {
   "cell_type": "raw",
   "metadata": {},
   "source": [
    "spades.py -1 /data/Lab8_data/illumina_reads_R1.fastq -2 /data/Lab8_data/illumina_reads_R2.fastq --pacbio /data/Lab8_data/pacbio_reads.fastq -t 1 -o spades_data\n"
   ]
  },
  {
   "cell_type": "markdown",
   "metadata": {},
   "source": [
    "# Lab 9:"
   ]
  },
  {
   "cell_type": "markdown",
   "metadata": {},
   "source": [
    "1) Generate assembly statistics. \n",
    "\n",
    "We generated assembly statistics for both the provided contigs.fasta and scaffolds.fasta. The process from Lab 8 was not able to finish running due to memory constraints, so for this lab we will use the provided files. First, we run the following command. "
   ]
  },
  {
   "cell_type": "raw",
   "metadata": {},
   "source": [
    "assembly-stats /data/Lab9_data/contigs.fasta\n",
    "\n"
   ]
  },
  {
   "cell_type": "markdown",
   "metadata": {},
   "source": [
    "These are the stats we obtain. "
   ]
  },
  {
   "cell_type": "raw",
   "metadata": {},
   "source": [
    "assembly-stats /data/Lab9_data/contigs.fasta\n",
    "stats for /data/Lab9_data/contigs.fasta\n",
    "sum = 6680581, n = 180, ave = 37114.34, largest = 687571\n",
    "N50 = 234690, n = 10\n",
    "N60 = 202142, n = 13\n",
    "N70 = 154232, n = 17\n",
    "N80 = 103366, n = 22\n",
    "N90 = 81821, n = 29\n",
    "N100 = 128, n = 180\n",
    "N_count = 0\n",
    "Gaps = 0\n"
   ]
  },
  {
   "cell_type": "markdown",
   "metadata": {},
   "source": [
    "We then do the same for scaffolds.fasta:"
   ]
  },
  {
   "cell_type": "raw",
   "metadata": {},
   "source": [
    "assembly-stats /data/Lab9_data/scaffolds.fasta\n",
    "stats for /data/Lab9_data/scaffolds.fasta\n",
    "sum = 6680345, n = 176, ave = 37956.51, largest = 687571\n",
    "N50 = 234690, n = 10\n",
    "N60 = 202142, n = 13\n",
    "N70 = 154232, n = 17\n",
    "N80 = 103366, n = 22\n",
    "N90 = 83515, n = 29\n",
    "N100 = 129, n = 176\n",
    "N_count = 20\n",
    "Gaps = 2\n"
   ]
  },
  {
   "cell_type": "markdown",
   "metadata": {},
   "source": [
    "Why\tis\tN50\tis\tuseful\tstatistic\tto\tcalculate?\tWhy\tnot\tjust\tlist\tthe\tmean\tor\tmedian\tcontig\tlength?\tIn\tyour\tassembly,\tare\tscaffolds\tlonger\tthan\tcontigs,\tor\tare\tscaffolds\tapproximately\tequal\tto\tcontigs?\t"
   ]
  },
  {
   "cell_type": "markdown",
   "metadata": {},
   "source": [
    "The N50 is a useful statistic to calculate because it is weighted such that half of the assembly is contained within contigs greater than or equal to the N50 statistic. The mean and median contig lengths are not weighted and give no information about where most of the data is concentrated, so the N50 is more useful. \n",
    "\n",
    "In our assembly, the scaffolds are approximately equal to contigs. "
   ]
  },
  {
   "cell_type": "markdown",
   "metadata": {},
   "source": [
    "2) Identify the taxon from which your genome originated."
   ]
  },
  {
   "cell_type": "markdown",
   "metadata": {},
   "source": [
    "To identify the taxon from which our genome originated, we first run the following command:"
   ]
  },
  {
   "cell_type": "raw",
   "metadata": {},
   "source": [
    "rna_hmm3.py -i /data/Lab9_data/contigs.fasta -L /data/Lab9_data/HMM3 -o hmm_output.gff"
   ]
  },
  {
   "cell_type": "markdown",
   "metadata": {},
   "source": [
    "After this program completes, we delete all the lines other\tthan\tthose\tcontaining\t16S_rRNA\tgenes, and run the following bedtools command:"
   ]
  },
  {
   "cell_type": "raw",
   "metadata": {},
   "source": [
    "bedtools getfasta -fi /data/Lab9_data/contigs.fasta -bed hmm_output.gff"
   ]
  },
  {
   "cell_type": "markdown",
   "metadata": {},
   "source": [
    "We then obtain a fasta file, which we upload into RAST and BAsys for annotation. All of the resulting sequences are bacteria in the family Pseudomonadaceae. However, we were not able to obtain a single species match. "
   ]
  },
  {
   "cell_type": "markdown",
   "metadata": {},
   "source": [
    "3) Research\tand\twrite-up"
   ]
  },
  {
   "cell_type": "markdown",
   "metadata": {},
   "source": [
    "Our annotation suggests that some members of the Pseudomonadaceae family are auxotrophic for at least three amino acids, meaning that they must be provided with them in the nutritional base to grow: most commonly methionine, followed by arginine and leucine. Pseudonomas cause pneumonia-like infections in humans, and tend to be found in moist areas like bodies of water damp soil, and infect humans who may come into contact with them through swallowing or inhaling them. Thus, they would be classified as a human pathogen. \n",
    "\n",
    "The Pseudonomas also show a strong capacity for antibiotic resistance. According to a study by Yehuda Carmeli et. al., \" 15 (5%) were resistant to piperacillin, 19 (7%) were resistant to ceftazidime, 36 (13%) were resistant to imipenem, and 58 (21%) were resistant to ciprofloxacin. One hundred and eighty-five (68%) of the baseline isolates were susceptible to all four study drugs, 56 (20%) were resistant to one agent, 27 (10%) were resistant to two agents, and 6 (2%) were resistant to three agents.\" The paper mentions nothing about resistance to penicillin,\ttetracycline,\tor\tchloramphenicol, but if any of these compounds are structurally similar to the ones in the study it is highly likely that a Pseudonoma strain resistant to them does exist. Since antibiotic resistance seems to be increasing in the family, it is also likely that the Pseudonomas do experience horizontal gene transfer. \n",
    "\n",
    "Works cited:\n",
    "\n",
    "Bart, A. L., Pitt, T. L., \"Auxotrophic variants of Pseudomonas aeruginosa are selected from prototrophic wild-type strains in respiratory infections in patients with cystic fibrosis.\" Journal of Clinical Microbiology, 1995 Jan; 33(1): 37–40. \n",
    "\n",
    "Carmeli, Y., Troillet, N., Eliopoulos, G. M., Samore, M. \"Pseudomonas aeruginosa: Comparison of Risks Associated with Different Antipseudomonal Agents.\" Antimicrob Agents Chemother, 1999 Jun; 43(6): 1379–1382. \n",
    "\n"
   ]
  },
  {
   "cell_type": "code",
   "execution_count": null,
   "metadata": {},
   "outputs": [],
   "source": []
  }
 ],
 "metadata": {
  "kernelspec": {
   "display_name": "Python 3",
   "language": "python",
   "name": "python3"
  },
  "language_info": {
   "codemirror_mode": {
    "name": "ipython",
    "version": 3
   },
   "file_extension": ".py",
   "mimetype": "text/x-python",
   "name": "python",
   "nbconvert_exporter": "python",
   "pygments_lexer": "ipython3",
   "version": "3.7.3"
  }
 },
 "nbformat": 4,
 "nbformat_minor": 2
}
