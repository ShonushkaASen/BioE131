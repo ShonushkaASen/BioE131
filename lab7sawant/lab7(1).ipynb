{
 "cells": [
  {
   "cell_type": "markdown",
   "metadata": {},
   "source": [
    "# 1. Simulating the data"
   ]
  },
  {
   "cell_type": "markdown",
   "metadata": {},
   "source": [
    "Using\tnp.random.choice,\tgenerate\t100\tmegabytes\t(8\tbits/byte\t*\t1e6 bytes/megabyte)\tof\trandom\tdata\tcontaining\t100%,\t90%,\t80%,\t70%,\t60%,\tand\t50%\tzeros.\tBe\tsure\tto\tcall\tnp.packbits\ton\tyour\tdata\tbefore\twriting\tit\tto\ta\tfile.\t\n",
    "\n",
    "Code:"
   ]
  },
  {
   "cell_type": "code",
   "execution_count": 21,
   "metadata": {},
   "outputs": [],
   "source": [
    "import numpy as np\n"
   ]
  },
  {
   "cell_type": "markdown",
   "metadata": {},
   "source": [
    "Since 1Mb is 8e+6 bits, 100Mb is 8e+8 bits, so our size parameter should be 800000000.\n",
    "However, due to memory constraints, none of the commands were able to run with 100Mb as the size parameter. \n",
    "Thus, I have used 10Mb for each block of random data, with a size parameter of 80000000."
   ]
  },
  {
   "cell_type": "code",
   "execution_count": 33,
   "metadata": {
    "scrolled": true
   },
   "outputs": [
    {
     "data": {
      "text/plain": [
       "10000000"
      ]
     },
     "execution_count": 33,
     "metadata": {},
     "output_type": "execute_result"
    }
   ],
   "source": [
    "myvar_100 = np.random.choice([0, 1], size=80000000, replace=True, p=[1.0, 0.0]) #100% zeros\n",
    "myvar_100 = np.packbits(myvar_100)\n",
    "open(\"myvar_100\", \"wb\").write(myvar_100)"
   ]
  },
  {
   "cell_type": "code",
   "execution_count": 34,
   "metadata": {},
   "outputs": [
    {
     "data": {
      "text/plain": [
       "10000000"
      ]
     },
     "execution_count": 34,
     "metadata": {},
     "output_type": "execute_result"
    }
   ],
   "source": [
    "myvar_90 = np.random.choice([0, 1], size=80000000, replace=True, p=[0.9, 0.1]) #90% zeros\n",
    "myvar_90 = np.packbits(myvar_90)\n",
    "open(\"myvar_90\", \"wb\").write(myvar_90)"
   ]
  },
  {
   "cell_type": "code",
   "execution_count": 35,
   "metadata": {},
   "outputs": [
    {
     "data": {
      "text/plain": [
       "10000000"
      ]
     },
     "execution_count": 35,
     "metadata": {},
     "output_type": "execute_result"
    }
   ],
   "source": [
    "myvar_80 = np.random.choice([0, 1], size=80000000, replace=True, p=[0.8, 0.2]) #80% zeros\n",
    "myvar_80 = np.packbits(myvar_80)\n",
    "open(\"myvar_80\", \"wb\").write(myvar_80)"
   ]
  },
  {
   "cell_type": "code",
   "execution_count": 36,
   "metadata": {},
   "outputs": [
    {
     "data": {
      "text/plain": [
       "10000000"
      ]
     },
     "execution_count": 36,
     "metadata": {},
     "output_type": "execute_result"
    }
   ],
   "source": [
    "myvar_70 = np.random.choice([0, 1], size=80000000, replace=True, p=[0.7, 0.3]) #70% zeros\n",
    "myvar_70 = np.packbits(myvar_70)\n",
    "open(\"myvar_70\", \"wb\").write(myvar_70)"
   ]
  },
  {
   "cell_type": "code",
   "execution_count": 37,
   "metadata": {},
   "outputs": [
    {
     "data": {
      "text/plain": [
       "10000000"
      ]
     },
     "execution_count": 37,
     "metadata": {},
     "output_type": "execute_result"
    }
   ],
   "source": [
    "myvar_60 = np.random.choice([0, 1], size=80000000, replace=True, p=[0.6, 0.4]) #60% zeros\n",
    "myvar_60 = np.packbits(myvar_60)\n",
    "open(\"myvar_60\", \"wb\").write(myvar_60)"
   ]
  },
  {
   "cell_type": "code",
   "execution_count": 38,
   "metadata": {},
   "outputs": [
    {
     "data": {
      "text/plain": [
       "10000000"
      ]
     },
     "execution_count": 38,
     "metadata": {},
     "output_type": "execute_result"
    }
   ],
   "source": [
    "myvar_50 = np.random.choice([0, 1], size=80000000, replace=True, p=[0.5, 0.5]) #50% zeros\n",
    "myvar_50 = np.packbits(myvar_50)\n",
    "open(\"myvar_50\", \"wb\").write(myvar_50)"
   ]
  },
  {
   "cell_type": "markdown",
   "metadata": {},
   "source": [
    "Next,\twe generate\tone DNA\tand\tone protein\tsequence, each\t100\tmillion\tletters\tlong,\tand\twrite\tthose\tto\tthe\thome\tdirectory.\t"
   ]
  },
  {
   "cell_type": "code",
   "execution_count": 28,
   "metadata": {},
   "outputs": [],
   "source": [
    "residues = ['A', 'C', 'D', 'E', 'F', 'G', 'H', 'I', 'K', 'L', 'M', 'N', 'P', 'Q', 'R', 'S', 'T', 'V', 'W', 'Y'] \n",
    "residue_probs = [0.05, 0.05, 0.05, 0.05, 0.05, 0.05, 0.05, 0.05, 0.05, 0.05, 0.05, 0.05, 0.05, 0.05, 0.05, 0.05, 0.05, 0.05, 0.05, 0.05]\n",
    "nucleotides = ['A', 'C', 'T', 'G']\n",
    "#residue/nucleotides arrays, for viewing convenience\n"
   ]
  },
  {
   "cell_type": "code",
   "execution_count": 29,
   "metadata": {},
   "outputs": [],
   "source": [
    "DNA = np.random.choice(nucleotides, size=(100000000), replace=True, p=[0.25, 0.25, 0.25, 0.25])\n",
    "protein = np.random.choice(residues, size=(100000000), replace=True, p=residue_probs)"
   ]
  },
  {
   "cell_type": "code",
   "execution_count": 40,
   "metadata": {},
   "outputs": [
    {
     "data": {
      "text/plain": [
       "100000000"
      ]
     },
     "execution_count": 40,
     "metadata": {},
     "output_type": "execute_result"
    }
   ],
   "source": [
    "open(\"protein.fa\", \"w\").write(\"\".join(protein))\n",
    "open(\"nucleotide.fa\", \"w\").write(\"\".join(protein))"
   ]
  },
  {
   "cell_type": "markdown",
   "metadata": {},
   "source": [
    "# 2. Compressing the data"
   ]
  },
  {
   "cell_type": "markdown",
   "metadata": {},
   "source": [
    "We will now compress the data in the terminal, using the commands given in the spec. "
   ]
  },
  {
   "cell_type": "markdown",
   "metadata": {},
   "source": [
    "For the 100% zeros file:"
   ]
  },
  {
   "cell_type": "raw",
   "metadata": {},
   "source": [
    "time gzip –k myvar_100 (10MB to 9.75kb)\n",
    "\n",
    "real    0m0.062s\n",
    "user    0m0.058s\n",
    "sys     0m0.004s\n",
    "\n",
    "time bzip2 –k myvar_100 (10 MB to 575B)\n",
    "\n",
    "real    0m0.101s\n",
    "user    0m0.093s\n",
    "sys     0m0.008s\n",
    "\n",
    "time pbzip2 -k myvar_100 (10 MB to 575B)\n",
    "\n",
    "real    0m0.051s\n",
    "user    0m0.156s\n",
    "sys     0m0.016s\n",
    "\n"
   ]
  },
  {
   "cell_type": "markdown",
   "metadata": {},
   "source": [
    "For the 90% zeros file"
   ]
  },
  {
   "cell_type": "raw",
   "metadata": {},
   "source": [
    "time gzip -c myvar_90 > myvar_90.gz (10MB to 5.6MB)\n",
    "\n",
    "\n",
    "real    0m2.644s\n",
    "user    0m2.630s\n",
    "sys     0m0.012s\n",
    "\n",
    "\n",
    "time bzip2 –k myvar_90 (10MB to 5.83 MB)\n",
    "\n",
    "\n",
    "real    0m0.992s\n",
    "user    0m0.986s\n",
    "sys     0m0.004s\n",
    "\n",
    "\n",
    "time pbzip2 -k myvar_90 -f (10MB to 5.83MB)\n",
    "\n",
    "real    0m0.156s\n",
    "user    0m1.404s\n",
    "sys     0m0.080s\n",
    "\n",
    "\n",
    "\n"
   ]
  },
  {
   "cell_type": "markdown",
   "metadata": {},
   "source": [
    "For the 80% zeros file:"
   ]
  },
  {
   "cell_type": "raw",
   "metadata": {},
   "source": [
    "time gzip -c myvar_80 > myvar_80.gz (10 MB to 7.74 MB)\n",
    "\n",
    "real    0m1.706s\n",
    "user    0m1.699s\n",
    "sys     0m0.004s\n",
    "\n",
    "time bzip2 –k myvar_80 (10mb to 8.26 mb)\n",
    "\n",
    "real    0m1.039s\n",
    "user    0m1.029s\n",
    "sys     0m0.008s\n",
    "\n",
    "time pbzip2 -k myvar_80 -f (10 mb to 8.26 mb)\n",
    "\n",
    "real    0m0.181s\n",
    "user    0m1.679s\n",
    "sys     0m0.069s\n",
    "\n",
    "\n"
   ]
  },
  {
   "cell_type": "markdown",
   "metadata": {},
   "source": [
    "For the 70% zeros file:"
   ]
  },
  {
   "cell_type": "raw",
   "metadata": {},
   "source": [
    "time gzip -c myvar_70 > myvar_70.gz (10MB to 8.93 MB)\n",
    "\n",
    "real    0m0.700s\n",
    "user    0m0.679s\n",
    "sys     0m0.020s\n",
    "\n",
    "time bzip2 –k myvar_70 (10MB to 9.51 MB)\n",
    "\n",
    "real    0m1.119s\n",
    "user    0m1.094s\n",
    "sys     0m0.024s\n",
    "\n",
    "time pbzip2 -k myvar_70 -f (10MB to 9.51 MB)\n",
    "\n",
    "real    0m0.211s\n",
    "user    0m2.006s\n",
    "sys     0m0.081s\n",
    "\n"
   ]
  },
  {
   "cell_type": "markdown",
   "metadata": {},
   "source": [
    "For the 60% zeros file:"
   ]
  },
  {
   "cell_type": "raw",
   "metadata": {},
   "source": [
    "time gzip -c myvar_60 > myvar_60.gz (10MB to 9.77MB)\n",
    "\n",
    "real    0m0.435s\n",
    "user    0m0.426s\n",
    "sys     0m0.008s\n",
    "\n",
    "time bzip2 –k myvar_60 (10 MB to 10 MB)\n",
    "\n",
    "real    0m1.247s\n",
    "user    0m1.234s\n",
    "sys     0m0.012s\n",
    "\n",
    "time pbzip2 -k myvar_60 -f (10 MB to 10MB)\n",
    "\n",
    "real    0m0.246s\n",
    "user    0m2.216s\n",
    "sys     0m0.089s\n"
   ]
  },
  {
   "cell_type": "markdown",
   "metadata": {},
   "source": [
    "For the 50% zeros file:"
   ]
  },
  {
   "cell_type": "raw",
   "metadata": {},
   "source": [
    "time gzip -c myvar_50 > myvar_50.gz (10 MB to 10 MB)\n",
    "\n",
    "real    0m0.363s\n",
    "user    0m0.354s\n",
    "sys     0m0.008s\n",
    "\n",
    "time bzip2 –k myvar_50 (10 MB to 10MB)\n",
    "\n",
    "real    0m1.318s\n",
    "user    0m1.302s\n",
    "sys     0m0.016s\n",
    "\n",
    "time pbzip2 -k myvar_50 -f (10 MB to 10MB)\n",
    "\n",
    "real    0m0.267s\n",
    "user    0m2.409s\n",
    "sys     0m0.076s\n"
   ]
  },
  {
   "cell_type": "markdown",
   "metadata": {},
   "source": [
    "For the nucleotide file:"
   ]
  },
  {
   "cell_type": "raw",
   "metadata": {},
   "source": [
    "time gzip -c nucleotide.fa > nucleotide.fa.gz (100 MB to 60.6 MB)\n",
    "\n",
    "real   0m4.464s\n",
    "user   0m4.274s\n",
    "sys    0m0.084s\n",
    "\n",
    "time bzip2 –k nucleotide.fa (100 MB to 55.3 MB)\n",
    "\n",
    "real   0m9.763s\n",
    "user   0m9.662s\n",
    "sys    0m0.100s\n",
    "\n",
    "time pbzip2 -k nucleotide.fa -f (100 MB to 55.3 MB)\n",
    "\n",
    "real   0m1.175s\n",
    "user   0m14.726s\n",
    "sys    0m0.496s\n",
    "\n"
   ]
  },
  {
   "cell_type": "markdown",
   "metadata": {},
   "source": [
    "For the protein sequence file:"
   ]
  },
  {
   "cell_type": "raw",
   "metadata": {},
   "source": [
    "time gzip -c protein.fa > protein.fa.gz (100 MB to 60.6 MB)\n",
    "\n",
    "real   0m4.374s\n",
    "user   0m4.301s\n",
    "sys    0m0.072s\n",
    "\n",
    "time bzip2 –k protein.fa (100 MB to 55.3 MB)\n",
    "\n",
    "real   0m9.757s\n",
    "user   0m9.661s\n",
    "sys    0m0.096s\n",
    "\n",
    "time pbzip2 -k protein.fa -f (100 MB to 55.3 MB)\n",
    "\n",
    "real   0m1.173s\n",
    "user   0m14.729s\n",
    "sys    0m0.491s"
   ]
  },
  {
   "attachments": {
    "image.png": {
     "image/png": "[encoded data removed]"
    }
   },
   "cell_type": "markdown",
   "metadata": {},
   "source": [
    "![image.png](attachment:image.png)"
   ]
  },
  {
   "cell_type": "markdown",
   "metadata": {},
   "source": [
    "Above we have a comparison of all three compression algorithms, comparing output size and runtime. "
   ]
  },
  {
   "cell_type": "markdown",
   "metadata": {},
   "source": [
    "# 3. Questions"
   ]
  },
  {
   "cell_type": "markdown",
   "metadata": {},
   "source": [
    "1. Which\talgorithm\tachieves\tthe\tbest\tlevel\tof\tcompression\ton\teach\tfile\ttype?\n",
    "\n",
    "For the random data files, gzip achieves the best level of compression. For the nucleotide and protein files, it can be either bzip2 or pbzip2."
   ]
  },
  {
   "cell_type": "markdown",
   "metadata": {},
   "source": [
    "2. Which algorithm is the fastest?\n",
    "\n",
    "Overall, pbzip2 was the fastest. "
   ]
  },
  {
   "cell_type": "markdown",
   "metadata": {},
   "source": [
    "3. What is the difference between bzip2 and pbzip2? Do you expect one to be faster and why? \n",
    "\n",
    "pbzip2 uses parallel thread implementation of bzip2 while bzip2 uses a single thread, so pbzip2 can sort faster (multiple threads versus only one for the same number of bits). "
   ]
  },
  {
   "cell_type": "markdown",
   "metadata": {},
   "source": [
    "4. How does the level of compression change as the percentage of zeros increases? Why does this happen?\n",
    "\n",
    "There is more redundancy in the file as the percentage of zeros increases, so we can assign fewer bits to zeros than we can to ones. The more zeros we have in comparison to ones, the more we can compress the file. "
   ]
  },
  {
   "cell_type": "markdown",
   "metadata": {},
   "source": [
    "5. What is the minimum number of bits required to store a single DNA base?\n",
    "\n",
    "Since there are 4 DNA bases, we would need 2 bits. \n"
   ]
  },
  {
   "cell_type": "markdown",
   "metadata": {},
   "source": [
    "6. What is the minimum number of bits required to store an amino acid letter?\n",
    "\n",
    "Since there are 20 amino acid letters, we would need 5 bits. "
   ]
  },
  {
   "cell_type": "markdown",
   "metadata": {},
   "source": [
    "7. In your tests, how many bits did gzip and bzip2 actually require to store your random DNA and protein sequences?\n",
    "\n",
    "gzip required 60.6MB, and bzip2 required 55.3Mb. "
   ]
  },
  {
   "cell_type": "markdown",
   "metadata": {},
   "source": [
    "8. Are gzip and bzip2 performing well on DNA and proteins?\n",
    "\n",
    "Yes, they are. They both reduce the number of bits required by about half. "
   ]
  },
  {
   "cell_type": "markdown",
   "metadata": {},
   "source": [
    "# 4. Compressing real data"
   ]
  },
  {
   "cell_type": "markdown",
   "metadata": {},
   "source": [
    "1. A priori, do you expect to achieve better or worse compression here than random data? Why?\n",
    "\n",
    "We expect to achieve better compression, since the sequences will be functional and contain motifs, domains etc., and thus not randomly distributed. "
   ]
  },
  {
   "cell_type": "markdown",
   "metadata": {},
   "source": [
    "2. How does the compression ratio of this file compare to random data?\n",
    "\n",
    "It is lower, since we achieved better compression. \n"
   ]
  },
  {
   "cell_type": "markdown",
   "metadata": {},
   "source": [
    "# 5. Estimating compression of 1000 terabytes"
   ]
  },
  {
   "cell_type": "markdown",
   "metadata": {},
   "source": [
    "Given\tthe\tbenchmarking\tdata\tyou\tobtained\tin\tthis\tlab,\twhich\talgorithm\tdo\tyou\tpropose\tto\tuse\tfor\teach\ttype\tof\tdata?\tProvide\tan\testimate\tfor\tthe\tfraction\tof\tspace\tyou\tcan\tsave\tusing\tyour\tcompression\tscheme.\tHow\tmuch\tof\ta\tbonus\tdo\tyou\tanticipate\treceiving\tthis\tyear?\t"
   ]
  },
  {
   "cell_type": "markdown",
   "metadata": {},
   "source": [
    "For the re-sequencing data, we would use pbzip2, and we would use the same for the protein sequences. For the binary miscroscope images, we could use either bzip2 or pbzip2; they both performed better on the nucleotide sequence (which was uniformly distributed) than gzip. "
   ]
  },
  {
   "cell_type": "markdown",
   "metadata": {},
   "source": [
    "pbzip2 went down to 575B out of 10Mb for the 100% zero sequence;\n",
    "we can expect to keep 80*(5.75/100) = 4.6%.\n",
    "pbzip2 saved about 53.5Mb out of 100Mb for the protein sequences;\n",
    "we can expect to keep 10*(53.5/100) = 5.35%. Since it performed about the same for random sequences, we retain another 5.35%. That means we saved 84.7% of the data. Since every 1% reduction translates into a 500$ saving, the bonus will be 84.7 * 500 = $ 42,350. "
   ]
  },
  {
   "cell_type": "code",
   "execution_count": null,
   "metadata": {},
   "outputs": [],
   "source": []
  }
 ],
 "metadata": {
  "kernelspec": {
   "display_name": "Python 3",
   "language": "python",
   "name": "python3"
  },
  "language_info": {
   "codemirror_mode": {
    "name": "ipython",
    "version": 3
   },
   "file_extension": ".py",
   "mimetype": "text/x-python",
   "name": "python",
   "nbconvert_exporter": "python",
   "pygments_lexer": "ipython3",
   "version": "3.7.3"
  }
 },
 "nbformat": 4,
 "nbformat_minor": 2
}
